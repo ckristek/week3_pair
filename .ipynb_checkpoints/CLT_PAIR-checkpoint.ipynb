{
 "cells": [
  {
   "cell_type": "code",
   "execution_count": 2,
   "metadata": {},
   "outputs": [
    {
     "data": {
      "text/plain": [
       "(array([ 2.,  8., 28., 36., 58., 39., 14., 10.,  4.,  1.]),\n",
       " array([13. , 15.7, 18.4, 21.1, 23.8, 26.5, 29.2, 31.9, 34.6, 37.3, 40. ]),\n",
       " <a list of 10 Patch objects>)"
      ]
     },
     "execution_count": 2,
     "metadata": {},
     "output_type": "execute_result"
    }
   ],
   "source": [
    "import scipy.stats as stats\n",
    "import matplotlib.pyplot as plt\n",
    "import numpy as np\n",
    "def make_draws(dist, params, size=200):\n",
    " \"\"\"\n",
    " Draw samples of random variables from a specified distribution\n",
    " with given parameters and return these in an array.\n",
    "\n",
    " INPUT:\n",
    " dist: (Scipy.stats distribution object) Distribution with a .rvs method\n",
    " params: (dict) Parameters to define the distribution dist.\n",
    "               e.g. if dist = scipy.stats.binom then params could be:\n",
    "               {'n': 100, 'p': 0.25}\n",
    " size: (int) Number of samples to draw\n",
    "\n",
    " OUTPUT:\n",
    " (Numpy array) Sample of random variables \n",
    " \"\"\"\n",
    " return dist(**params).rvs(size) \n",
    "\n",
    "# Generate draws from the Binomial Distribution, using Scipy's binom object.  \n",
    "binomial_samp = make_draws(stats.binom, {'n': 100, 'p':0.25}, size=200)\n",
    "binomial_samp\n",
    "plt.hist(binomial_samp)"
   ]
  },
  {
   "cell_type": "code",
   "execution_count": 3,
   "metadata": {},
   "outputs": [
    {
     "data": {
      "image/png": "[encoded data removed]",
      "text/plain": [
       "<matplotlib.figure.Figure at 0x5879f60>"
      ]
     },
     "metadata": {},
     "output_type": "display_data"
    }
   ],
   "source": [
    "poisson_samp = make_draws(stats.poisson, {'mu':5}, size=1000)\n",
    "poisson_samp\n",
    "#plt.bar(np.arange(len(poisson_samp))poisson_samp)\n",
    "plt.hist(poisson_samp)\n",
    "plt.show()"
   ]
  },
  {
   "cell_type": "code",
   "execution_count": 4,
   "metadata": {},
   "outputs": [
    {
     "data": {
      "text/plain": [
       "(array([92., 57., 28.,  9.,  6.,  3.,  3.,  1.,  0.,  1.]),\n",
       " array([0.01491145, 0.59926894, 1.18362644, 1.76798394, 2.35234143,\n",
       "        2.93669893, 3.52105642, 4.10541392, 4.68977141, 5.27412891,\n",
       "        5.8584864 ]),\n",
       " <a list of 10 Patch objects>)"
      ]
     },
     "execution_count": 4,
     "metadata": {},
     "output_type": "execute_result"
    },
    {
     "data": {
      "image/png": "[encoded data removed]",
      "text/plain": [
       "<matplotlib.figure.Figure at 0x9c94b00>"
      ]
     },
     "metadata": {},
     "output_type": "display_data"
    }
   ],
   "source": [
    "exp_samp = make_draws(stats.expon, {}, size=200)\n",
    "exp_samp\n",
    "plt.hist(exp_samp)\n"
   ]
  },
  {
   "cell_type": "code",
   "execution_count": 22,
   "metadata": {},
   "outputs": [
    {
     "data": {
      "text/plain": [
       "26"
      ]
     },
     "execution_count": 22,
     "metadata": {},
     "output_type": "execute_result"
    }
   ],
   "source": [
    "geo_samp = make_draws(stats.geom, {'p':.3}, size=1000)\n",
    "geo_samp\n",
    "#plt.hist(geo_samp)\n",
    "geo_samp.max()"
   ]
  },
  {
   "cell_type": "code",
   "execution_count": 6,
   "metadata": {},
   "outputs": [
    {
     "data": {
      "text/plain": [
       "(array([ 96.,  97.,  87., 103., 113.,  91., 115.,  93., 101., 104.]),\n",
       " array([5.62166956e-02, 1.00242631e+01, 1.99923095e+01, 2.99603559e+01,\n",
       "        3.99284023e+01, 4.98964487e+01, 5.98644951e+01, 6.98325415e+01,\n",
       "        7.98005879e+01, 8.97686343e+01, 9.97366807e+01]),\n",
       " <a list of 10 Patch objects>)"
      ]
     },
     "execution_count": 6,
     "metadata": {},
     "output_type": "execute_result"
    },
    {
     "data": {
      "image/png": "[encoded data removed]",
      "text/plain": [
       "<matplotlib.figure.Figure at 0x9d22828>"
      ]
     },
     "metadata": {},
     "output_type": "display_data"
    }
   ],
   "source": [
    "uni_samp = make_draws(stats.uniform, {'loc':0,'scale':100}, size=1000)\n",
    "plt.hist(uni_samp)"
   ]
  },
  {
   "cell_type": "code",
   "execution_count": null,
   "metadata": {},
   "outputs": [],
   "source": []
  },
  {
   "cell_type": "code",
   "execution_count": 8,
   "metadata": {},
   "outputs": [],
   "source": [
    "def plot_means(dist,params,size,n):\n",
    "    list=[]\n",
    "    for i in range(n):\n",
    "        list.append((dist(**params).rvs(size)).mean())\n",
    "    plt.hist(list)\n",
    "        "
   ]
  },
  {
   "cell_type": "code",
   "execution_count": 9,
   "metadata": {},
   "outputs": [
    {
     "data": {
      "image/png": "[encoded data removed]",
      "text/plain": [
       "<matplotlib.figure.Figure at 0x9ac3a20>"
      ]
     },
     "metadata": {},
     "output_type": "display_data"
    }
   ],
   "source": [
    "# Part 0 - 2\n",
    "#binomial\n",
    "plot_means(stats.binom, {'n': 100, 'p':0.25}, size=200,n=1000)"
   ]
  },
  {
   "cell_type": "code",
   "execution_count": 10,
   "metadata": {},
   "outputs": [
    {
     "data": {
      "image/png": "[encoded data removed]",
      "text/plain": [
       "<matplotlib.figure.Figure at 0x971b7b8>"
      ]
     },
     "metadata": {},
     "output_type": "display_data"
    }
   ],
   "source": [
    "#poisson\n",
    "plot_means(stats.poisson, {'mu':5}, size=200,n=1000)"
   ]
  },
  {
   "cell_type": "code",
   "execution_count": 12,
   "metadata": {},
   "outputs": [
    {
     "data": {
      "image/png": "[encoded data removed]",
      "text/plain": [
       "<matplotlib.figure.Figure at 0xae74fd0>"
      ]
     },
     "metadata": {},
     "output_type": "display_data"
    }
   ],
   "source": [
    "#exponential\n",
    "plot_means(stats.expon, {}, size=200,n=1000)"
   ]
  },
  {
   "cell_type": "code",
   "execution_count": 13,
   "metadata": {},
   "outputs": [
    {
     "data": {
      "image/png": "[encoded data removed]",
      "text/plain": [
       "<matplotlib.figure.Figure at 0x7e8b710>"
      ]
     },
     "metadata": {},
     "output_type": "display_data"
    }
   ],
   "source": [
    "#Uniform\n",
    "plot_means(stats.uniform, {'loc':0,'scale':100}, size=200,n=1000)"
   ]
  },
  {
   "cell_type": "code",
   "execution_count": 14,
   "metadata": {},
   "outputs": [
    {
     "data": {
      "image/png": "[encoded data removed]",
      "text/plain": [
       "<matplotlib.figure.Figure at 0x7f3d0f0>"
      ]
     },
     "metadata": {},
     "output_type": "display_data"
    }
   ],
   "source": [
    "#Geometric\n",
    "plot_means(stats.geom, {'p':.3}, size=200,n=1000)"
   ]
  },
  {
   "cell_type": "code",
   "execution_count": 15,
   "metadata": {},
   "outputs": [
    {
     "data": {
      "image/png": "[encoded data removed]",
      "text/plain": [
       "<matplotlib.figure.Figure at 0x7fc16a0>"
      ]
     },
     "metadata": {},
     "output_type": "display_data"
    }
   ],
   "source": [
    "#Part 0 - 3\n",
    "#Binomial at size =10 and n=5000\n",
    "plot_means(stats.binom, {'n': 100, 'p':0.25}, size=10,n=5000)"
   ]
  },
  {
   "cell_type": "code",
   "execution_count": 16,
   "metadata": {},
   "outputs": [
    {
     "data": {
      "image/png": "[encoded data removed]",
      "text/plain": [
       "<matplotlib.figure.Figure at 0x8128390>"
      ]
     },
     "metadata": {},
     "output_type": "display_data"
    }
   ],
   "source": [
    "#Poisson at size 10 and n=5000\n",
    "plot_means(stats.poisson, {'mu':5}, size=10,n=5000)"
   ]
  },
  {
   "cell_type": "code",
   "execution_count": 17,
   "metadata": {},
   "outputs": [
    {
     "data": {
      "image/png": "[encoded data removed]",
      "text/plain": [
       "<matplotlib.figure.Figure at 0x817c860>"
      ]
     },
     "metadata": {},
     "output_type": "display_data"
    }
   ],
   "source": [
    "#Exponential at size=10 and n=5000\n",
    "plot_means(stats.expon, {}, size=10,n=5000)"
   ]
  },
  {
   "cell_type": "code",
   "execution_count": 18,
   "metadata": {},
   "outputs": [
    {
     "data": {
      "image/png": "[encoded data removed]",
      "text/plain": [
       "<matplotlib.figure.Figure at 0x8224a20>"
      ]
     },
     "metadata": {},
     "output_type": "display_data"
    }
   ],
   "source": [
    "#Uniform at size 10 and n =5000\n",
    "plot_means(stats.uniform, {'loc':0,'scale':100}, size=10,n=5000)"
   ]
  },
  {
   "cell_type": "code",
   "execution_count": 19,
   "metadata": {},
   "outputs": [
    {
     "data": {
      "image/png": "[encoded data removed]",
      "text/plain": [
       "<matplotlib.figure.Figure at 0x7ed46d8>"
      ]
     },
     "metadata": {},
     "output_type": "display_data"
    }
   ],
   "source": [
    "#Geometric at size 10 and n=5000\n",
    "plot_means(stats.geom, {'p':.3}, size=10,n=5000)"
   ]
  },
  {
   "cell_type": "code",
   "execution_count": 23,
   "metadata": {},
   "outputs": [],
   "source": [
    "def plot_max(dist,params,size,n):\n",
    "    list=[]\n",
    "    for i in range(n):\n",
    "        list.append((dist(**params).rvs(size)).max())\n",
    "    plt.hist(list)"
   ]
  },
  {
   "cell_type": "code",
   "execution_count": 24,
   "metadata": {},
   "outputs": [
    {
     "data": {
      "image/png": "[encoded data removed]",
      "text/plain": [
       "<matplotlib.figure.Figure at 0x9af8ba8>"
      ]
     },
     "metadata": {},
     "output_type": "display_data"
    }
   ],
   "source": [
    "#Part 0 - 5\n",
    "#Binomial\n",
    "plot_max(stats.binom, {'n': 100, 'p':0.25}, size=200,n=1000)"
   ]
  },
  {
   "cell_type": "code",
   "execution_count": 25,
   "metadata": {},
   "outputs": [
    {
     "data": {
      "image/png": "[encoded data removed]",
      "text/plain": [
       "<matplotlib.figure.Figure at 0x81f05c0>"
      ]
     },
     "metadata": {},
     "output_type": "display_data"
    }
   ],
   "source": [
    "#Poisson\n",
    "plot_max(stats.poisson, {'mu':5}, size=200,n=1000)"
   ]
  },
  {
   "cell_type": "code",
   "execution_count": 27,
   "metadata": {},
   "outputs": [
    {
     "data": {
      "image/png": "[encoded data removed]",
      "text/plain": [
       "<matplotlib.figure.Figure at 0x81e42b0>"
      ]
     },
     "metadata": {},
     "output_type": "display_data"
    }
   ],
   "source": [
    "#Exponential\n",
    "plot_max(stats.expon, {}, size=200,n=1000)"
   ]
  },
  {
   "cell_type": "code",
   "execution_count": 28,
   "metadata": {},
   "outputs": [
    {
     "data": {
      "image/png": "[encoded data removed]",
      "text/plain": [
       "<matplotlib.figure.Figure at 0x7ef60f0>"
      ]
     },
     "metadata": {},
     "output_type": "display_data"
    }
   ],
   "source": [
    "#Uniform\n",
    "plot_max(stats.uniform, {'loc':0,'scale':100}, size=200,n=1000)"
   ]
  },
  {
   "cell_type": "code",
   "execution_count": 29,
   "metadata": {},
   "outputs": [
    {
     "data": {
      "image/png": "[encoded data removed]",
      "text/plain": [
       "<matplotlib.figure.Figure at 0xae18390>"
      ]
     },
     "metadata": {},
     "output_type": "display_data"
    }
   ],
   "source": [
    "#Geometric\n",
    "plot_max(stats.geom, {'p':.3}, size=200,n=1000)"
   ]
  },
  {
   "cell_type": "code",
   "execution_count": 50,
   "metadata": {},
   "outputs": [
    {
     "data": {
      "text/plain": [
       "array([2.3, 2.5, 1.9, 2. , 1.2, 1.7, 3. , 1.4, 2. , 2.4, 1.8, 3. , 3. ,\n",
       "       3.2, 1.8, 2.9, 1.3, 2.5, 1.5, 1.8, 1.6, 1.6, 2.8, 2. , 2. , 2.7,\n",
       "       1.3, 3.1, 3.1, 1.4, 1.9, 1.6, 3.1, 2.6, 3.2, 2.1, 1.7, 2.6, 2.6,\n",
       "       1.7, 1.3, 1.5, 1.2, 2.9, 2. , 1.2, 1.9, 2.7, 1.6, 1.5, 2.2, 2.1,\n",
       "       2.8, 2.9, 2.5, 1.4, 1.7, 2.9, 1.6, 2.2, 2.4, 2.8, 1.3, 2.4, 1.7,\n",
       "       2. , 2.3, 1.8, 1.2, 1.5, 1.6, 1.2, 2.2, 1.3, 2.4, 2.4, 2.8, 2.6,\n",
       "       2.1, 2.8, 2.8, 1.6, 1.9, 3.2, 2.2, 1.5, 2.9, 1.8, 1.9, 2. , 3.2,\n",
       "       2.7, 2.8, 1.4, 3.2, 3.1, 2.3, 1.6, 1.8, 1.7, 2. , 1.3, 2.1, 2.5,\n",
       "       2.6, 2.5, 3. , 2.8, 2.6, 2.6, 1.7, 2.8, 2.5, 2.3, 2.2, 2.2, 2. ,\n",
       "       1.5, 2.3, 2.2, 2.9, 1.8, 3.1, 2.2, 2.8, 2.1, 3. , 2.4, 1.4, 2.7,\n",
       "       2.9, 2.5, 3.1, 2.5, 2.4, 2.5, 1.9, 2.1, 2.8, 3.1, 2.2, 1.5, 2.3,\n",
       "       2.4, 3.2, 1.2, 1.5, 3. , 1.8, 1.6, 1.7, 2. , 2.9, 2.4, 1.8, 1.3,\n",
       "       2.2, 1.6, 2.1, 1.6, 1.4, 1.6, 1.2, 2.6, 3.1, 2.9, 1.8, 1.7, 1.5,\n",
       "       2.4, 1.5, 2. , 2.5, 2.5, 3. , 2.9, 1.8, 3.1, 2.5, 2.7, 2.7, 2.1,\n",
       "       2.3, 3. , 3. , 2.2, 1.7, 1.4, 2. , 2.1, 1.8, 1.4, 1.8, 2.1, 1.6,\n",
       "       3.1, 1.9, 1.8, 1.7, 1.9])"
      ]
     },
     "execution_count": 50,
     "metadata": {},
     "output_type": "execute_result"
    }
   ],
   "source": [
    "#Part 1\n",
    "gg=np.loadtxt('data/lunch_hour.txt')\n",
    "gg"
   ]
  },
  {
   "cell_type": "code",
   "execution_count": 52,
   "metadata": {},
   "outputs": [
    {
     "data": {
      "text/plain": [
       "[2.3,\n",
       " 2.0,\n",
       " 2.6,\n",
       " 2.2,\n",
       " 1.4,\n",
       " 1.7,\n",
       " 2.8,\n",
       " 2.1,\n",
       " 2.2,\n",
       " 2.7,\n",
       " 1.5,\n",
       " 2.6,\n",
       " 1.8,\n",
       " 2.5,\n",
       " 1.6,\n",
       " 1.6,\n",
       " 1.5,\n",
       " 3.1,\n",
       " 1.2,\n",
       " 2.0]"
      ]
     },
     "execution_count": 52,
     "metadata": {},
     "output_type": "execute_result"
    }
   ],
   "source": [
    "import random\n",
    "(np.array(random.sample(list(gg),20))).mean()"
   ]
  },
  {
   "cell_type": "code",
   "execution_count": 57,
   "metadata": {},
   "outputs": [],
   "source": [
    "def plot_means1(a,n,size):\n",
    "    list1=[]\n",
    "    for i in range(n):\n",
    "        list1.append((np.array(random.sample(list(a),size))).mean())\n",
    "    print(np.std(list1))    \n",
    "    plt.hist(list1)"
   ]
  },
  {
   "cell_type": "code",
   "execution_count": 58,
   "metadata": {},
   "outputs": [
    {
     "name": "stdout",
     "output_type": "stream",
     "text": [
      "0.12704554055534575\n"
     ]
    },
    {
     "data": {
      "image/png": "[encoded data removed]",
      "text/plain": [
       "<matplotlib.figure.Figure at 0x81f0da0>"
      ]
     },
     "metadata": {},
     "output_type": "display_data"
    }
   ],
   "source": [
    "plot_means1(gg,n=1000,size=20)"
   ]
  },
  {
   "cell_type": "code",
   "execution_count": 67,
   "metadata": {},
   "outputs": [
    {
     "name": "stdout",
     "output_type": "stream",
     "text": [
      "0.1809133704290537\n"
     ]
    },
    {
     "data": {
      "image/png": "[encoded data removed]",
      "text/plain": [
       "<matplotlib.figure.Figure at 0xaf0e588>"
      ]
     },
     "metadata": {},
     "output_type": "display_data"
    }
   ],
   "source": [
    "#Sample size=10\n",
    "plot_means1(gg,n=1000,size=10)"
   ]
  },
  {
   "cell_type": "code",
   "execution_count": 62,
   "metadata": {},
   "outputs": [],
   "source": [
    "#Part 2\n",
    "def plot_means2(a,n,size):\n",
    "    list1=[]\n",
    "    for i in range(n):\n",
    "        list1.append((np.array(np.random.choice(list(a),size))).mean())\n",
    "    print(np.std(list1))    \n",
    "    plt.hist(list1)"
   ]
  },
  {
   "cell_type": "code",
   "execution_count": 66,
   "metadata": {},
   "outputs": [
    {
     "name": "stdout",
     "output_type": "stream",
     "text": [
      "0.18011529196600717\n"
     ]
    },
    {
     "data": {
      "image/png": "[encoded data removed]",
      "text/plain": [
       "<matplotlib.figure.Figure at 0x82b32b0>"
      ]
     },
     "metadata": {},
     "output_type": "display_data"
    }
   ],
   "source": [
    "plot_means2(gg,1000,size=10)"
   ]
  },
  {
   "cell_type": "code",
   "execution_count": null,
   "metadata": {},
   "outputs": [],
   "source": []
  }
 ],
 "metadata": {
  "kernelspec": {
   "display_name": "Python 3",
   "language": "python",
   "name": "python3"
  },
  "language_info": {
   "codemirror_mode": {
    "name": "ipython",
    "version": 3
   },
   "file_extension": ".py",
   "mimetype": "text/x-python",
   "name": "python",
   "nbconvert_exporter": "python",
   "pygments_lexer": "ipython3",
   "version": "3.6.4"
  }
 },
 "nbformat": 4,
 "nbformat_minor": 2
}
