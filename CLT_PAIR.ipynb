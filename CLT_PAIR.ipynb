{
 "cells": [
  {
   "cell_type": "code",
   "execution_count": 19,
   "metadata": {},
   "outputs": [
    {
     "data": {
      "text/plain": [
       "(array([ 7.,  9., 16., 39., 29., 50., 22., 13.,  8.,  7.]),\n",
       " array([14. , 16.2, 18.4, 20.6, 22.8, 25. , 27.2, 29.4, 31.6, 33.8, 36. ]),\n",
       " <a list of 10 Patch objects>)"
      ]
     },
     "execution_count": 19,
     "metadata": {},
     "output_type": "execute_result"
    },
    {
     "data": {
      "image/png": "[encoded data removed]",
      "text/plain": [
       "<matplotlib.figure.Figure at 0x9480320>"
      ]
     },
     "metadata": {},
     "output_type": "display_data"
    }
   ],
   "source": [
    "import scipy.stats as stats\n",
    "import matplotlib.pyplot as plt\n",
    "import numpy as np\n",
    "def make_draws(dist, params, size=200):\n",
    " \"\"\"\n",
    " Draw samples of random variables from a specified distribution\n",
    " with given parameters and return these in an array.\n",
    "\n",
    " INPUT:\n",
    " dist: (Scipy.stats distribution object) Distribution with a .rvs method\n",
    " params: (dict) Parameters to define the distribution dist.\n",
    "               e.g. if dist = scipy.stats.binom then params could be:\n",
    "               {'n': 100, 'p': 0.25}\n",
    " size: (int) Number of samples to draw\n",
    "\n",
    " OUTPUT:\n",
    " (Numpy array) Sample of random variables \n",
    " \"\"\"\n",
    " return dist(**params).rvs(size) \n",
    "\n",
    "# Generate draws from the Binomial Distribution, using Scipy's binom object.  \n",
    "binomial_samp = make_draws(stats.binom, {'n': 100, 'p':0.25}, size=200)\n",
    "binomial_samp\n",
    "plt.hist(binomial_samp)"
   ]
  },
  {
   "cell_type": "code",
   "execution_count": 18,
   "metadata": {},
   "outputs": [
    {
     "data": {
      "image/png": "[encoded data removed]",
      "text/plain": [
       "<matplotlib.figure.Figure at 0x942d390>"
      ]
     },
     "metadata": {},
     "output_type": "display_data"
    }
   ],
   "source": [
    "poisson_samp = make_draws(stats.poisson, {'mu':5}, size=1000)\n",
    "poisson_samp\n",
    "#plt.bar(np.arange(len(poisson_samp))poisson_samp)\n",
    "plt.hist(poisson_samp)\n",
    "plt.show()"
   ]
  },
  {
   "cell_type": "code",
   "execution_count": 33,
   "metadata": {},
   "outputs": [
    {
     "data": {
      "text/plain": [
       "(array([86., 46., 29., 19.,  6.,  9.,  1.,  2.,  1.,  1.]),\n",
       " array([0.00662194, 0.58413375, 1.16164557, 1.73915739, 2.3166692 ,\n",
       "        2.89418102, 3.47169283, 4.04920465, 4.62671647, 5.20422828,\n",
       "        5.7817401 ]),\n",
       " <a list of 10 Patch objects>)"
      ]
     },
     "execution_count": 33,
     "metadata": {},
     "output_type": "execute_result"
    },
    {
     "data": {
      "image/png": "[encoded data removed]",
      "text/plain": [
       "<matplotlib.figure.Figure at 0xa756fd0>"
      ]
     },
     "metadata": {},
     "output_type": "display_data"
    }
   ],
   "source": [
    "exp_samp = make_draws(stats.expon, {}, size=200)\n",
    "exp_samp\n",
    "plt.hist(exp_samp)\n"
   ]
  },
  {
   "cell_type": "code",
   "execution_count": 60,
   "metadata": {},
   "outputs": [
    {
     "data": {
      "text/plain": [
       "3.347"
      ]
     },
     "execution_count": 60,
     "metadata": {},
     "output_type": "execute_result"
    }
   ],
   "source": [
    "geo_samp = make_draws(stats.geom, {'p':.3}, size=1000)\n",
    "geo_samp\n",
    "#plt.hist(geo_samp)\n",
    "geo_samp.mean()"
   ]
  },
  {
   "cell_type": "code",
   "execution_count": 44,
   "metadata": {},
   "outputs": [
    {
     "data": {
      "text/plain": [
       "(array([ 94.,  86., 102.,  95.,  90., 114.,  96., 100.,  95., 128.]),\n",
       " array([4.83569550e-02, 1.00071686e+01, 1.99659803e+01, 2.99247920e+01,\n",
       "        3.98836036e+01, 4.98424153e+01, 5.98012270e+01, 6.97600386e+01,\n",
       "        7.97188503e+01, 8.96776620e+01, 9.96364736e+01]),\n",
       " <a list of 10 Patch objects>)"
      ]
     },
     "execution_count": 44,
     "metadata": {},
     "output_type": "execute_result"
    },
    {
     "data": {
      "image/png": "[encoded data removed]",
      "text/plain": [
       "<matplotlib.figure.Figure at 0xa8b4208>"
      ]
     },
     "metadata": {},
     "output_type": "display_data"
    }
   ],
   "source": [
    "uni_samp = make_draws(stats.uniform, {'loc':0,'scale':100}, size=1000)\n",
    "plt.hist(uni_samp)"
   ]
  },
  {
   "cell_type": "code",
   "execution_count": null,
   "metadata": {},
   "outputs": [],
   "source": []
  },
  {
   "cell_type": "code",
   "execution_count": 70,
   "metadata": {},
   "outputs": [],
   "source": [
    "def plot_means(dist,params,size,n):\n",
    "    list=[]\n",
    "    for i in range(n):\n",
    "        list.append((dist(**params).rvs(size)).mean())\n",
    "    plt.hist(list)\n",
    "        "
   ]
  },
  {
   "cell_type": "code",
   "execution_count": 72,
   "metadata": {},
   "outputs": [
    {
     "data": {
      "image/png": "[encoded data removed]",
      "text/plain": [
       "<matplotlib.figure.Figure at 0xa8acb00>"
      ]
     },
     "metadata": {},
     "output_type": "display_data"
    }
   ],
   "source": [
    "plot_means(stats.binom, {'n': 100, 'p':0.25}, size=200,n=1000)"
   ]
  },
  {
   "cell_type": "code",
   "execution_count": null,
   "metadata": {},
   "outputs": [],
   "source": []
  }
 ],
 "metadata": {
  "kernelspec": {
   "display_name": "Python 3",
   "language": "python",
   "name": "python3"
  },
  "language_info": {
   "codemirror_mode": {
    "name": "ipython",
    "version": 3
   },
   "file_extension": ".py",
   "mimetype": "text/x-python",
   "name": "python",
   "nbconvert_exporter": "python",
   "pygments_lexer": "ipython3",
   "version": "3.6.4"
  }
 },
 "nbformat": 4,
 "nbformat_minor": 2
}
